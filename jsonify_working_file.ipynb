{
 "cells": [
  {
   "cell_type": "code",
   "execution_count": 162,
   "metadata": {
    "collapsed": true
   },
   "outputs": [],
   "source": [
    "import os\n",
    "\n",
    "import pandas as pd\n",
    "import numpy as np\n",
    "\n",
    "import sqlalchemy\n",
    "from sqlalchemy.ext.automap import automap_base\n",
    "from sqlalchemy.orm import Session\n",
    "from sqlalchemy import create_engine\n",
    "\n",
    "from flask import (Flask, render_template, jsonify, request, redirect)\n",
    "\n",
    "import sqlite3\n",
    "from flask import g"
   ]
  },
  {
   "cell_type": "code",
   "execution_count": 163,
   "metadata": {
    "collapsed": true
   },
   "outputs": [],
   "source": [
    "engine = create_engine(\"sqlite:///gun_violence.sqlite\")\n",
    "\n",
    "# reflect an existing database into a new model\n",
    "Base = automap_base()\n",
    "\n",
    "# reflect the tables\n",
    "Base.prepare(engine, reflect=True)\n",
    "\n",
    "# Save references to each table\n",
    "Gun_sales = Base.classes.gun_sales\n",
    "Gun_law_grade = Base.classes.gun_law_grade\n",
    "Mass_shootings = Base.classes.mass_shootings\n",
    "State_laws_by_year = Base.classes.state_laws_by_year\n",
    "\n",
    "# Create our session (link) from Python to the DB\n",
    "session = Session(engine)"
   ]
  },
  {
   "cell_type": "code",
   "execution_count": 164,
   "metadata": {},
   "outputs": [
    {
     "data": {
      "text/html": [
       "<div>\n",
       "<style>\n",
       "    .dataframe thead tr:only-child th {\n",
       "        text-align: right;\n",
       "    }\n",
       "\n",
       "    .dataframe thead th {\n",
       "        text-align: left;\n",
       "    }\n",
       "\n",
       "    .dataframe tbody tr th {\n",
       "        vertical-align: top;\n",
       "    }\n",
       "</style>\n",
       "<table border=\"1\" class=\"dataframe\">\n",
       "  <thead>\n",
       "    <tr style=\"text-align: right;\">\n",
       "      <th></th>\n",
       "      <th>new_id</th>\n",
       "      <th>year</th>\n",
       "      <th>state</th>\n",
       "      <th>handgun</th>\n",
       "      <th>long_gun</th>\n",
       "      <th>other</th>\n",
       "    </tr>\n",
       "  </thead>\n",
       "  <tbody>\n",
       "    <tr>\n",
       "      <th>1117</th>\n",
       "      <td>2017Wisconsin</td>\n",
       "      <td>2017</td>\n",
       "      <td>Wisconsin</td>\n",
       "      <td>141628</td>\n",
       "      <td>123407</td>\n",
       "      <td>7612</td>\n",
       "    </tr>\n",
       "    <tr>\n",
       "      <th>1118</th>\n",
       "      <td>2017Wyoming</td>\n",
       "      <td>2017</td>\n",
       "      <td>Wyoming</td>\n",
       "      <td>15227</td>\n",
       "      <td>17229</td>\n",
       "      <td>1006</td>\n",
       "    </tr>\n",
       "  </tbody>\n",
       "</table>\n",
       "</div>"
      ],
      "text/plain": [
       "             new_id  year      state  handgun  long_gun  other\n",
       "1117  2017Wisconsin  2017  Wisconsin   141628    123407   7612\n",
       "1118    2017Wyoming  2017    Wyoming    15227     17229   1006"
      ]
     },
     "execution_count": 164,
     "metadata": {},
     "output_type": "execute_result"
    }
   ],
   "source": [
    "results = session.query(Gun_sales.id, Gun_sales.year, Gun_sales.state, Gun_sales.handgun, Gun_sales.long_gun, Gun_sales.other).statement\n",
    "df = pd.read_sql_query(results, session.bind)\n",
    "df[\"new_id\"] = df[\"year\"].astype(str) + df[\"state\"]\n",
    "del df[\"id\"]\n",
    "df = df[[\"new_id\", \"year\", \"state\", \"handgun\", \"long_gun\", \"other\"]]\n",
    "df.tail(2)"
   ]
  },
  {
   "cell_type": "code",
   "execution_count": 192,
   "metadata": {},
   "outputs": [],
   "source": [
    "df_dict = {\"gun_sales_id\": df[\"new_id\"].values.tolist(),\\\n",
    "           \"year\": df[\"year\"].values.tolist(), \\\n",
    "           \"state\": df[\"state\"].values.tolist(),\\\n",
    "           \"hand_gun\": df[\"handgun\"].values.tolist(),\\\n",
    "           \"long_gun\": df[\"long_gun\"].values.tolist(),\\\n",
    "           \"other\": df[\"other\"].values.tolist()\n",
    "          }"
   ]
  },
  {
   "cell_type": "code",
   "execution_count": 193,
   "metadata": {},
   "outputs": [],
   "source": [
    "state_ids = []\n",
    "for num in range(56):\n",
    "    state_ids.append(num)\n",
    "df_state_ids = pd.DataFrame(state_ids)\n",
    "df_state_ids = df_state_ids.iloc[1:56]\n",
    "df_state_ids = df_state_ids.reset_index(drop=True)\n",
    "df_state_ids = df_state_ids.rename(columns={0:\"state_id\"})"
   ]
  },
  {
   "cell_type": "code",
   "execution_count": 202,
   "metadata": {},
   "outputs": [],
   "source": [
    "state_names = df[\"state\"].iloc[0:55]\n",
    "df_states = pd.DataFrame(state_names)\n",
    "df_states[\"state_id\"] = df_state_ids[\"state_id\"]\n",
    "df_states = df_states[[\"state_id\",\"state\"]]"
   ]
  },
  {
   "cell_type": "code",
   "execution_count": 204,
   "metadata": {},
   "outputs": [],
   "source": [
    "states_dict = {\"state_id\": df_states[\"state_id\"].values.tolist(),\"state\": df_states[\"state\"].values.tolist()}"
   ]
  },
  {
   "cell_type": "code",
   "execution_count": null,
   "metadata": {
    "collapsed": true
   },
   "outputs": [],
   "source": []
  }
 ],
 "metadata": {
  "kernelspec": {
   "display_name": "Python 3",
   "language": "python",
   "name": "python3"
  },
  "language_info": {
   "codemirror_mode": {
    "name": "ipython",
    "version": 3
   },
   "file_extension": ".py",
   "mimetype": "text/x-python",
   "name": "python",
   "nbconvert_exporter": "python",
   "pygments_lexer": "ipython3",
   "version": "3.6.2"
  }
 },
 "nbformat": 4,
 "nbformat_minor": 2
}
