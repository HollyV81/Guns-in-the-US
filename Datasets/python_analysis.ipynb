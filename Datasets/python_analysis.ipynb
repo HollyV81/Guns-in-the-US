{
 "cells": [
  {
   "cell_type": "code",
   "execution_count": 460,
   "metadata": {
    "collapsed": true
   },
   "outputs": [],
   "source": [
    "import pandas as pd\n",
    "import sqlalchemy\n",
    "from sqlalchemy import create_engine, MetaData\n",
    "from sqlalchemy.ext.declarative import declarative_base\n",
    "from sqlalchemy import Column, Integer, String, Numeric, Text, Float, ForeignKey\n",
    "from sqlalchemy.orm import sessionmaker, relationship"
   ]
  },
  {
   "cell_type": "code",
   "execution_count": 461,
   "metadata": {
    "collapsed": true
   },
   "outputs": [],
   "source": [
    "engine = create_engine(\"sqlite:///gun_violence.sqlite\")"
   ]
  },
  {
   "cell_type": "code",
   "execution_count": 462,
   "metadata": {
    "collapsed": true
   },
   "outputs": [],
   "source": [
    "Base = declarative_base()"
   ]
  },
  {
   "cell_type": "code",
   "execution_count": 463,
   "metadata": {},
   "outputs": [],
   "source": [
    "class Gun_sales(Base):\n",
    "    \n",
    "    __tablename__ = 'gun_sales'\n",
    "    extend_existing=True\n",
    "    id = Column(Integer, primary_key=True, autoincrement=True)\n",
    "    year = Column(Integer)\n",
    "    state = Column(String(20))\n",
    "    handgun = Column(Integer)\n",
    "    long_gun = Column(Integer)\n",
    "    other = Column(Integer)\n",
    "    totals = Column(Integer)\n",
    "    permit = Column(Integer)\n",
    "    permit_recheck = Column(Integer)\n",
    "    \n",
    "    def __repr__(self):\n",
    "        return f\"id={self.id}, name={self.state}\""
   ]
  },
  {
   "cell_type": "code",
   "execution_count": 464,
   "metadata": {},
   "outputs": [],
   "source": [
    "class Gun_law_grade(Base):\n",
    "    \n",
    "    __tablename__ = 'gun_law_grade'\n",
    "    \n",
    "    id = Column(Integer, primary_key=True)\n",
    "    ranking = Column(Integer)\n",
    "    state = Column(String(255))\n",
    "    grade = Column(String(255))\n",
    "    gun_deaths = Column(Integer)\n",
    "    gun_deaths_per_100k = Column(Float)\n",
    "        \n",
    "    def __repr__(self):\n",
    "        return f\"id={self.id}, name={self.state}\""
   ]
  },
  {
   "cell_type": "code",
   "execution_count": 465,
   "metadata": {
    "collapsed": true
   },
   "outputs": [],
   "source": [
    "# Other classes for other tables go here"
   ]
  },
  {
   "cell_type": "code",
   "execution_count": 466,
   "metadata": {
    "collapsed": true
   },
   "outputs": [],
   "source": [
    "Base.metadata.create_all(engine)"
   ]
  },
  {
   "cell_type": "code",
   "execution_count": 467,
   "metadata": {},
   "outputs": [
    {
     "data": {
      "text/plain": [
       "['gun_law_grade', 'gun_sales']"
      ]
     },
     "execution_count": 467,
     "metadata": {},
     "output_type": "execute_result"
    }
   ],
   "source": [
    "engine.table_names()"
   ]
  },
  {
   "cell_type": "code",
   "execution_count": 471,
   "metadata": {},
   "outputs": [],
   "source": [
    "def populate_table(engine, table, csvfile):\n",
    "    \"\"\"Populates a table from a Pandas DataFrame.\"\"\"\n",
    "    # connect to the database\n",
    "    conn = engine.connect()\n",
    "    \n",
    "    # Load the CSV file into a pandas dataframe \n",
    "    df_of_data_to_insert = pd.read_csv(csvfile)\n",
    "    \n",
    "    # Orient='records' creates a list of data to write\n",
    "    # http://pandas-docs.github.io/pandas-docs-travis/io.html#orient-options\n",
    "    data = df_of_data_to_insert.to_dict(orient='records')\n",
    "\n",
    "    # Optional: Delete all rows in the table \n",
    "    conn.execute(table.delete())\n",
    "\n",
    "    # Insert the dataframe into the database in one bulk insert\n",
    "    conn.execute(table.insert(), data)\n",
    "    \n",
    "# Call the function to insert the data for each table\n",
    "\n",
    "populate_table(engine, Gun_sales.__table__, 'cleaned_data/gun_sale_est_1998_2017.csv')\n",
    "populate_table(engine, Gun_law_grade.__table__, 'cleaned_data/gun_law_scorecard.csv')\n"
   ]
  },
  {
   "cell_type": "code",
   "execution_count": 473,
   "metadata": {},
   "outputs": [
    {
     "data": {
      "text/plain": [
       "[(1, 1998, 'Alabama', 10567, 25723, 0, 36290, 0, 0)]"
      ]
     },
     "execution_count": 473,
     "metadata": {},
     "output_type": "execute_result"
    }
   ],
   "source": [
    "#run query to test data\n",
    "engine.execute(\"SELECT * FROM gun_sales LIMIT 1\").fetchall()"
   ]
  },
  {
   "cell_type": "code",
   "execution_count": 474,
   "metadata": {},
   "outputs": [
    {
     "data": {
      "text/plain": [
       "[(1, 50, 'Mississippi', 'F', 4, 19.8),\n",
       " (2, 48, 'Kansas', 'F', 23, 13.3),\n",
       " (3, 48, 'Missouri', 'F', 7, 18.8),\n",
       " (4, 47, 'Arizona', 'F', 16, 15.2),\n",
       " (5, 46, 'Idaho', 'F', 19, 14.6),\n",
       " (6, 45, 'Wyoming', 'F', 11, 17.5),\n",
       " (7, 44, 'Alaska', 'F', 1, 23.0),\n",
       " (8, 43, 'Louisiana', 'F', 3, 21.2),\n",
       " (9, 42, 'Kentucky', 'F', 13, 17.5),\n",
       " (10, 41, 'Vermont', 'F', 36, 11.0)]"
      ]
     },
     "execution_count": 474,
     "metadata": {},
     "output_type": "execute_result"
    }
   ],
   "source": [
    "engine.execute(\"SELECT * FROM gun_law_grade LIMIT 10\").fetchall()"
   ]
  },
  {
   "cell_type": "code",
   "execution_count": null,
   "metadata": {
    "collapsed": true
   },
   "outputs": [],
   "source": []
  }
 ],
 "metadata": {
  "kernelspec": {
   "display_name": "Python 3",
   "language": "python",
   "name": "python3"
  },
  "language_info": {
   "codemirror_mode": {
    "name": "ipython",
    "version": 3
   },
   "file_extension": ".py",
   "mimetype": "text/x-python",
   "name": "python",
   "nbconvert_exporter": "python",
   "pygments_lexer": "ipython3",
   "version": "3.6.2"
  }
 },
 "nbformat": 4,
 "nbformat_minor": 2
}
