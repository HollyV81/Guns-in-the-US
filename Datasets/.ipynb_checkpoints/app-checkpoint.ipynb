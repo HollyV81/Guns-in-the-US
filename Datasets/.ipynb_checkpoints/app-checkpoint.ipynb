{
 "cells": [
  {
   "cell_type": "code",
   "execution_count": 8,
   "metadata": {
    "collapsed": true
   },
   "outputs": [],
   "source": [
    "import os\n",
    "\n",
    "import pandas as pd\n",
    "import numpy as np\n",
    "\n",
    "import sqlalchemy\n",
    "from sqlalchemy.ext.automap import automap_base\n",
    "from sqlalchemy.orm import Session\n",
    "from sqlalchemy import create_engine\n",
    "\n",
    "from flask import Flask, jsonify, render_template\n",
    "app = Flask(__name__)\n"
   ]
  },
  {
   "cell_type": "code",
   "execution_count": 9,
   "metadata": {
    "collapsed": true
   },
   "outputs": [],
   "source": [
    "\n",
    "#################################################\n",
    "# Database Setup\n",
    "#################################################\n",
    "dbfile = os.path.join('gun_violence.sqlite')\n",
    "engine = create_engine(f\"sqlite:///{dbfile}\") \n",
    "\n",
    "# reflect an existing database into a new model\n",
    "Base = automap_base()\n",
    "# reflect the tables\n",
    "Base.prepare(engine, reflect=True)\n"
   ]
  },
  {
   "cell_type": "code",
   "execution_count": 10,
   "metadata": {
    "collapsed": true
   },
   "outputs": [],
   "source": [
    "\n",
    "# Save references to tables\n",
    "Gun_sales = Base.classes.gun_sales\n",
    "Gun_law_grade= Base.classes.gun_law_grade\n",
    "Mass_shootings = Base.classes.mass_shootings\n",
    "Nationwide_murder_rates = Base.classes.Nationwide_murder_rates\n",
    "State_laws_by_year = Base.classes.State_laws_by_year\n",
    "\n",
    "# Create our session (link) from Python to the DB\n",
    "session = Session(engine)\n",
    "state_dropdown= \"California\""
   ]
  },
  {
   "cell_type": "code",
   "execution_count": 11,
   "metadata": {},
   "outputs": [
    {
     "name": "stdout",
     "output_type": "stream",
     "text": [
      "1326612\n"
     ]
    }
   ],
   "source": [
    "gun_sales_stmt = session.query(Gun_sales).statement\n",
    "gun_sales_df = pd.read_sql_query(gun_sales_stmt, session.bind)\n",
    "gun_sales_by_state= gun_sales_df.loc[gun_sales_df['state']== state_dropdown,:]\n",
    "\n",
    "\n",
    "#dataframe for graph\n",
    "gun_sales_by_year= gun_sales_by_state.groupby(['year'])\n",
    "\n",
    "#dataframe for chloropleth\n",
    "gun_sales_2016= gun_sales_df.loc[gun_sales_df['year']== 2016,:]\n",
    "gun_sales_2016.set_index('state', inplace=True)\n",
    "\n",
    "#stats for state facts\n",
    "gun_sales_state= gun_sales_2016.loc[state_dropdown,'totals']\n",
    "print(gun_sales_state)"
   ]
  },
  {
   "cell_type": "code",
   "execution_count": 51,
   "metadata": {
    "collapsed": true
   },
   "outputs": [],
   "source": [
    "mass_shootings_stmt = session.query(Mass_shootings).statement\n",
    "mass_shootings_df = pd.read_sql_query(mass_shootings_stmt, session.bind)\n",
    "mass_shootings_by_state= mass_shootings_df.loc[mass_shootings_df['state']== state_dropdown,:]\n",
    "mass_shootings_by_year= mass_shootings_by_state[['id','state','year','fatalities','injured', 'total_victims']]\n"
   ]
  },
  {
   "cell_type": "code",
   "execution_count": 55,
   "metadata": {
    "scrolled": false
   },
   "outputs": [
    {
     "data": {
      "text/html": [
       "<div>\n",
       "<style>\n",
       "    .dataframe thead tr:only-child th {\n",
       "        text-align: right;\n",
       "    }\n",
       "\n",
       "    .dataframe thead th {\n",
       "        text-align: left;\n",
       "    }\n",
       "\n",
       "    .dataframe tbody tr th {\n",
       "        vertical-align: top;\n",
       "    }\n",
       "</style>\n",
       "<table border=\"1\" class=\"dataframe\">\n",
       "  <thead>\n",
       "    <tr style=\"text-align: right;\">\n",
       "      <th></th>\n",
       "      <th>state</th>\n",
       "      <th>fatalities</th>\n",
       "    </tr>\n",
       "  </thead>\n",
       "  <tbody>\n",
       "    <tr>\n",
       "      <th>0</th>\n",
       "      <td>Alabama</td>\n",
       "      <td>5</td>\n",
       "    </tr>\n",
       "    <tr>\n",
       "      <th>1</th>\n",
       "      <td>Arizona</td>\n",
       "      <td>8</td>\n",
       "    </tr>\n",
       "    <tr>\n",
       "      <th>2</th>\n",
       "      <td>California</td>\n",
       "      <td>6</td>\n",
       "    </tr>\n",
       "    <tr>\n",
       "      <th>3</th>\n",
       "      <td>Delaware</td>\n",
       "      <td>1</td>\n",
       "    </tr>\n",
       "    <tr>\n",
       "      <th>4</th>\n",
       "      <td>Florida</td>\n",
       "      <td>61</td>\n",
       "    </tr>\n",
       "  </tbody>\n",
       "</table>\n",
       "</div>"
      ],
      "text/plain": [
       "        state  fatalities\n",
       "0     Alabama           5\n",
       "1     Arizona           8\n",
       "2  California           6\n",
       "3    Delaware           1\n",
       "4     Florida          61"
      ]
     },
     "execution_count": 55,
     "metadata": {},
     "output_type": "execute_result"
    }
   ],
   "source": [
    "#data for chloropleth\n",
    "chloro_df = mass_shootings_df.query('year == 2016').groupby(['state'])[['fatalities']].sum().reset_index()\n",
    "chloro_df.head()"
   ]
  },
  {
   "cell_type": "code",
   "execution_count": 60,
   "metadata": {},
   "outputs": [
    {
     "name": "stdout",
     "output_type": "stream",
     "text": [
      "6\n"
     ]
    }
   ],
   "source": [
    "#stats for state facts\n",
    "chloro_df.reset_index()\n",
    "mass_shooting_deaths= chloro_df.loc[state_dropdown, 'fatalities']\n",
    "print(mass_shooting_deaths)\n"
   ]
  },
  {
   "cell_type": "code",
   "execution_count": 61,
   "metadata": {
    "collapsed": true
   },
   "outputs": [],
   "source": [
    "mass_sum = mass_shootings_df.groupby(['year','state'])[['fatalities']].sum().reset_index()\n",
    "mass_count = mass_shootings_df.groupby(['year','state'])[['fatalities']].count().reset_index()"
   ]
  },
  {
   "cell_type": "code",
   "execution_count": 62,
   "metadata": {},
   "outputs": [
    {
     "data": {
      "text/html": [
       "<div>\n",
       "<style>\n",
       "    .dataframe thead tr:only-child th {\n",
       "        text-align: right;\n",
       "    }\n",
       "\n",
       "    .dataframe thead th {\n",
       "        text-align: left;\n",
       "    }\n",
       "\n",
       "    .dataframe tbody tr th {\n",
       "        vertical-align: top;\n",
       "    }\n",
       "</style>\n",
       "<table border=\"1\" class=\"dataframe\">\n",
       "  <thead>\n",
       "    <tr style=\"text-align: right;\">\n",
       "      <th></th>\n",
       "      <th>year</th>\n",
       "      <th>state_x</th>\n",
       "      <th>fatalities_x</th>\n",
       "      <th>fatalities_y</th>\n",
       "    </tr>\n",
       "  </thead>\n",
       "  <tbody>\n",
       "    <tr>\n",
       "      <th>0</th>\n",
       "      <td>1966</td>\n",
       "      <td>Arizona</td>\n",
       "      <td>5</td>\n",
       "      <td>1</td>\n",
       "    </tr>\n",
       "    <tr>\n",
       "      <th>1</th>\n",
       "      <td>1966</td>\n",
       "      <td>Arizona</td>\n",
       "      <td>5</td>\n",
       "      <td>1</td>\n",
       "    </tr>\n",
       "    <tr>\n",
       "      <th>2</th>\n",
       "      <td>1966</td>\n",
       "      <td>Texas</td>\n",
       "      <td>17</td>\n",
       "      <td>1</td>\n",
       "    </tr>\n",
       "    <tr>\n",
       "      <th>3</th>\n",
       "      <td>1966</td>\n",
       "      <td>Texas</td>\n",
       "      <td>17</td>\n",
       "      <td>1</td>\n",
       "    </tr>\n",
       "    <tr>\n",
       "      <th>4</th>\n",
       "      <td>1971</td>\n",
       "      <td>Washington</td>\n",
       "      <td>2</td>\n",
       "      <td>1</td>\n",
       "    </tr>\n",
       "  </tbody>\n",
       "</table>\n",
       "</div>"
      ],
      "text/plain": [
       "   year     state_x  fatalities_x  fatalities_y\n",
       "0  1966     Arizona             5             1\n",
       "1  1966     Arizona             5             1\n",
       "2  1966       Texas            17             1\n",
       "3  1966       Texas            17             1\n",
       "4  1971  Washington             2             1"
      ]
     },
     "execution_count": 62,
     "metadata": {},
     "output_type": "execute_result"
    }
   ],
   "source": [
    "#dataframe for graph\n",
    "mass_df = pd.merge(mass_sum, mass_count, on = 'year',how ='inner')\n",
    "mass2_df = mass_df.drop('state_y', axis=1)\n",
    "mass2_df.head()"
   ]
  },
  {
   "cell_type": "code",
   "execution_count": 22,
   "metadata": {},
   "outputs": [
    {
     "name": "stdout",
     "output_type": "stream",
     "text": [
      "    id       State  Y2016  Y2015  Y2014  Y2013  Y2012  Y2011  Y2010  Y2009  \\\n",
      "25  26  California    4.9    4.8    4.4    4.6    5.0    4.8    4.8    5.3   \n",
      "\n",
      "    ...    Y2005  Y2004  Y2003  Y2002  Y2001  Y2000  Y1999  Y1998  Y1997  \\\n",
      "25  ...      6.9    6.7    6.8    6.8    6.4    6.1    6.0    6.6    8.0   \n",
      "\n",
      "    Y1996  \n",
      "25    9.1  \n",
      "\n",
      "[1 rows x 23 columns]\n"
     ]
    }
   ],
   "source": [
    "murder_rate_stmt = session.query(Nationwide_murder_rates).statement\n",
    "murder_rate_df = pd.read_sql_query(murder_rate_stmt, session.bind)\n",
    "murder_rate_df.head()\n",
    "\n",
    "\n",
    "#dataframe for chloropleth\n",
    "murder_rate_2016= murder_rate_df[['State','Y2016']]\n",
    "\n",
    "#dataframe for graph\n",
    "murder_rate_by_state= murder_rate_df.loc[murder_rate_df['State']== state_dropdown,:]\n",
    "print(murder_rate_by_state)\n",
    "\n",
    "#stats for state facts\n",
    "murder_rate_df.set_index('State', inplace=True)\n",
    "murder_rate_state= murder_rate_df.loc[state_dropdown,'Y2016']\n",
    "\n"
   ]
  },
  {
   "cell_type": "code",
   "execution_count": 76,
   "metadata": {},
   "outputs": [
    {
     "data": {
      "text/html": [
       "<div>\n",
       "<style>\n",
       "    .dataframe thead tr:only-child th {\n",
       "        text-align: right;\n",
       "    }\n",
       "\n",
       "    .dataframe thead th {\n",
       "        text-align: left;\n",
       "    }\n",
       "\n",
       "    .dataframe tbody tr th {\n",
       "        vertical-align: top;\n",
       "    }\n",
       "</style>\n",
       "<table border=\"1\" class=\"dataframe\">\n",
       "  <thead>\n",
       "    <tr style=\"text-align: right;\">\n",
       "      <th></th>\n",
       "      <th>state</th>\n",
       "      <th>grade</th>\n",
       "    </tr>\n",
       "  </thead>\n",
       "  <tbody>\n",
       "    <tr>\n",
       "      <th>0</th>\n",
       "      <td>Mississippi</td>\n",
       "      <td>F</td>\n",
       "    </tr>\n",
       "    <tr>\n",
       "      <th>1</th>\n",
       "      <td>Kansas</td>\n",
       "      <td>F</td>\n",
       "    </tr>\n",
       "    <tr>\n",
       "      <th>2</th>\n",
       "      <td>Missouri</td>\n",
       "      <td>F</td>\n",
       "    </tr>\n",
       "    <tr>\n",
       "      <th>3</th>\n",
       "      <td>Arizona</td>\n",
       "      <td>F</td>\n",
       "    </tr>\n",
       "    <tr>\n",
       "      <th>4</th>\n",
       "      <td>Idaho</td>\n",
       "      <td>F</td>\n",
       "    </tr>\n",
       "  </tbody>\n",
       "</table>\n",
       "</div>"
      ],
      "text/plain": [
       "         state grade\n",
       "0  Mississippi     F\n",
       "1       Kansas     F\n",
       "2     Missouri     F\n",
       "3      Arizona     F\n",
       "4        Idaho     F"
      ]
     },
     "execution_count": 76,
     "metadata": {},
     "output_type": "execute_result"
    }
   ],
   "source": [
    "gun_grade_stmt = session.query(Gun_law_grade).statement\n",
    "gun_grade_df = pd.read_sql_query(gun_grade_stmt, session.bind)\n",
    "\n",
    "#data for choloropleth\n",
    "gun_grade_chloro= gun_grade_df[['state','grade']]\n",
    "gun_grade_chloro.head()"
   ]
  },
  {
   "cell_type": "code",
   "execution_count": 77,
   "metadata": {},
   "outputs": [
    {
     "data": {
      "text/html": [
       "<div>\n",
       "<style>\n",
       "    .dataframe thead tr:only-child th {\n",
       "        text-align: right;\n",
       "    }\n",
       "\n",
       "    .dataframe thead th {\n",
       "        text-align: left;\n",
       "    }\n",
       "\n",
       "    .dataframe tbody tr th {\n",
       "        vertical-align: top;\n",
       "    }\n",
       "</style>\n",
       "<table border=\"1\" class=\"dataframe\">\n",
       "  <thead>\n",
       "    <tr style=\"text-align: right;\">\n",
       "      <th></th>\n",
       "      <th>state</th>\n",
       "      <th>grade</th>\n",
       "    </tr>\n",
       "  </thead>\n",
       "  <tbody>\n",
       "    <tr>\n",
       "      <th>0</th>\n",
       "      <td>Mississippi</td>\n",
       "      <td>F</td>\n",
       "    </tr>\n",
       "    <tr>\n",
       "      <th>1</th>\n",
       "      <td>Kansas</td>\n",
       "      <td>F</td>\n",
       "    </tr>\n",
       "    <tr>\n",
       "      <th>2</th>\n",
       "      <td>Missouri</td>\n",
       "      <td>F</td>\n",
       "    </tr>\n",
       "    <tr>\n",
       "      <th>3</th>\n",
       "      <td>Arizona</td>\n",
       "      <td>F</td>\n",
       "    </tr>\n",
       "    <tr>\n",
       "      <th>4</th>\n",
       "      <td>Idaho</td>\n",
       "      <td>F</td>\n",
       "    </tr>\n",
       "  </tbody>\n",
       "</table>\n",
       "</div>"
      ],
      "text/plain": [
       "         state grade\n",
       "0  Mississippi     F\n",
       "1       Kansas     F\n",
       "2     Missouri     F\n",
       "3      Arizona     F\n",
       "4        Idaho     F"
      ]
     },
     "execution_count": 77,
     "metadata": {},
     "output_type": "execute_result"
    }
   ],
   "source": [
    "#data for choloropleth\n",
    "gun_grade_chloro= gun_grade_df[['state','grade']]\n",
    "gun_grade_chloro.head()\n",
    "\n"
   ]
  },
  {
   "cell_type": "code",
   "execution_count": 80,
   "metadata": {},
   "outputs": [
    {
     "name": "stdout",
     "output_type": "stream",
     "text": [
      "A\n"
     ]
    }
   ],
   "source": [
    "#stats for state facts\n",
    "gun_grade_df.set_index('state', inplace=True)\n",
    "state_grade= gun_grade_df.loc[state_dropdown, 'grade']\n",
    "print(state_grade)"
   ]
  },
  {
   "cell_type": "code",
   "execution_count": null,
   "metadata": {
    "collapsed": true
   },
   "outputs": [],
   "source": []
  }
 ],
 "metadata": {
  "kernelspec": {
   "display_name": "Python 3",
   "language": "python",
   "name": "python3"
  },
  "language_info": {
   "codemirror_mode": {
    "name": "ipython",
    "version": 3
   },
   "file_extension": ".py",
   "mimetype": "text/x-python",
   "name": "python",
   "nbconvert_exporter": "python",
   "pygments_lexer": "ipython3",
   "version": "3.6.2"
  }
 },
 "nbformat": 4,
 "nbformat_minor": 2
}
