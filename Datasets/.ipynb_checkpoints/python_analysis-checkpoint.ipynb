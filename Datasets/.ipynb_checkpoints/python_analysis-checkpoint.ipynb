{
 "cells": [
  {
   "cell_type": "code",
   "execution_count": 11,
   "metadata": {
    "collapsed": true
   },
   "outputs": [],
   "source": [
    "import pandas as pd\n",
    "import sqlalchemy\n",
    "from sqlalchemy import create_engine, MetaData\n",
    "from sqlalchemy.ext.declarative import declarative_base\n",
    "from sqlalchemy import Column, Integer, String, Numeric, Text, Float, ForeignKey\n",
    "from sqlalchemy.orm import sessionmaker, relationship"
   ]
  },
  {
   "cell_type": "code",
   "execution_count": 12,
   "metadata": {
    "collapsed": true
   },
   "outputs": [],
   "source": [
    "engine = create_engine(\"sqlite:///gun_violence.sqlite\")"
   ]
  },
  {
   "cell_type": "code",
   "execution_count": 13,
   "metadata": {
    "collapsed": true
   },
   "outputs": [],
   "source": [
    "Base = declarative_base()"
   ]
  },
  {
   "cell_type": "code",
   "execution_count": 14,
   "metadata": {
    "collapsed": true
   },
   "outputs": [],
   "source": [
    "class Gun_sales(Base):\n",
    "    \n",
    "    __tablename__ = 'gun_sales'\n",
    "    extend_existing=True\n",
    "    id = Column(Integer, primary_key=True, autoincrement=True)\n",
    "    year = Column(Integer)\n",
    "    state = Column(String(20))\n",
    "    handgun = Column(Integer)\n",
    "    long_gun = Column(Integer)\n",
    "    other = Column(Integer)\n",
    "    totals = Column(Integer)\n",
    "    permit = Column(Integer)\n",
    "    permit_recheck = Column(Integer)\n",
    "    \n",
    "    def __repr__(self):\n",
    "        return f\"id={self.id}, name={self.state}\""
   ]
  },
  {
   "cell_type": "code",
   "execution_count": 15,
   "metadata": {
    "collapsed": true
   },
   "outputs": [],
   "source": [
    "class Gun_law_grade(Base):\n",
    "    \n",
    "    __tablename__ = 'gun_law_grade'\n",
    "    \n",
    "    id = Column(Integer, primary_key=True)\n",
    "    ranking = Column(Integer)\n",
    "    state = Column(String(255))\n",
    "    grade = Column(String(255))\n",
    "    gun_deaths = Column(Integer)\n",
    "    gun_deaths_per_100k = Column(Float)\n",
    "        \n",
    "    def __repr__(self):\n",
    "        return f\"id={self.id}, name={self.state}\""
   ]
  },
  {
   "cell_type": "code",
   "execution_count": 16,
   "metadata": {
    "collapsed": true
   },
   "outputs": [],
   "source": [
    "class Mass_shootings(Base):\n",
    "    \n",
    "    __tablename__ = 'mass_shootings'\n",
    "    \n",
    "    id = Column(Integer, primary_key=True)\n",
    "    title = Column(String(255))\n",
    "    city = Column(String(255))\n",
    "    state = Column(String(255))\n",
    "    month = Column(Integer)\n",
    "    year = Column(Integer)\n",
    "    target = Column(String(255))\n",
    "    cause = Column(String(255))\n",
    "    fatalities = Column(Integer)\n",
    "    injured = Column(Integer)\n",
    "    total_victims = Column(Integer)\n",
    "    mental_health = Column(String(255))\n",
    "    race = Column(String(255))\n",
    "    gender = Column(String(255))\n",
    "\n",
    "        \n",
    "    def __repr__(self):\n",
    "        return f\"id={self.id}, name={self.state}\""
   ]
  },
  {
   "cell_type": "code",
   "execution_count": 17,
   "metadata": {
    "collapsed": true
   },
   "outputs": [],
   "source": [
    "class State_laws_by_year(Base):\n",
    "    \n",
    "    __tablename__ = 'state_laws_by_year'\n",
    "    \n",
    "    id = Column(Integer, primary_key=True)\n",
    "    state = Column(String(255))\n",
    "    year = Column(Integer)\n",
    "    age18longgunpossess = Column(Integer)\n",
    "    age18longgunsale = Column(Integer)\n",
    "    age21handgunpossess = Column(Integer)\n",
    "    age21handgunsale = Column(Integer)\n",
    "    age21longgunpossess = Column(Integer)\n",
    "    age21longgunsale = Column(Integer)\n",
    "    age21longgunsaled = Column(Integer)\n",
    "    alcoholism = Column(Integer)\n",
    "    alctreatment = Column(Integer)\n",
    "    amm18 = Column(Integer)\n",
    "    amm21h = Column(Integer)\n",
    "    ammbackground = Column(Integer)\n",
    "    ammlicense = Column(Integer)\n",
    "    ammpermit = Column(Integer)\n",
    "    ammrecords = Column(Integer)\n",
    "    ammrestrict = Column(Integer)\n",
    "    assault = Column(Integer)\n",
    "    assaultlist = Column(Integer)\n",
    "    assaultregister = Column(Integer)\n",
    "    assaulttransfer = Column(Integer)\n",
    "    backgroundpurge = Column(Integer)\n",
    "    cap14 = Column(Integer)\n",
    "    cap16 = Column(Integer)\n",
    "    cap18 = Column(Integer)\n",
    "    capaccess = Column(Integer)\n",
    "    capliability = Column(Integer)\n",
    "    capunloaded = Column(Integer)\n",
    "    capuses = Column(Integer)\n",
    "    ccbackground = Column(Integer)\n",
    "    ccbackgroundnics = Column(Integer)\n",
    "    ccrenewbackground = Column(Integer)\n",
    "    ccrevoke = Column(Integer)\n",
    "    college = Column(Integer)\n",
    "    collegeconcealed = Column(Integer)\n",
    "    danger = Column(Integer)\n",
    "    dealer = Column(Integer)\n",
    "    dealerh = Column(Integer)\n",
    "    defactoreg = Column(Integer)\n",
    "    defactoregh = Column(Integer)\n",
    "    drugmisdemeanor = Column(Integer)\n",
    "    dvro = Column(Integer)\n",
    "    dvrodating = Column(Integer)\n",
    "    dvroremoval = Column(Integer)\n",
    "    dvrosurrender = Column(Integer)\n",
    "    dvrosurrenderdating = Column(Integer)\n",
    "    dvrosurrendernoconditions = Column(Integer)\n",
    "    elementary = Column(Integer)\n",
    "    exparte = Column(Integer)\n",
    "    expartedating = Column(Integer)\n",
    "    expartesurrender = Column(Integer)\n",
    "    expartesurrenderdating = Column(Integer)\n",
    "    expartesurrendernoconditions = Column(Integer)\n",
    "    felony = Column(Integer)\n",
    "    fingerprint = Column(Integer)\n",
    "    gunshow = Column(Integer)\n",
    "    gunshowh = Column(Integer)\n",
    "    gvro = Column(Integer)\n",
    "    gvrolawenforcement = Column(Integer)\n",
    "    immunity = Column(Integer)\n",
    "    incidentall = Column(Integer)\n",
    "    incidentremoval = Column(Integer)\n",
    "    inspection = Column(Integer)\n",
    "    invcommitment = Column(Integer)\n",
    "    invoutpatient = Column(Integer)\n",
    "    junkgun = Column(Integer)\n",
    "    liability = Column(Integer)\n",
    "    lockd = Column(Integer)\n",
    "    locked = Column(Integer)\n",
    "    lockp = Column(Integer)\n",
    "    lockstandards = Column(Integer)\n",
    "    loststolen = Column(Integer)\n",
    "    magazine = Column(Integer)\n",
    "    magazinepreowned = Column(Integer)\n",
    "    mayissue = Column(Integer)\n",
    "    mcdv = Column(Integer)\n",
    "    mcdvdating = Column(Integer)\n",
    "    mcdvremovalallowed = Column(Integer)\n",
    "    mcdvremovalrequired = Column(Integer)\n",
    "    mcdvsurrender = Column(Integer)\n",
    "    mcdvsurrenderdating = Column(Integer)\n",
    "    mcdvsurrendernoconditions = Column(Integer)\n",
    "    mentalhealth = Column(Integer)\n",
    "    microstamp = Column(Integer)\n",
    "    nosyg = Column(Integer)\n",
    "    onefeature = Column(Integer)\n",
    "    onepermonth = Column(Integer)\n",
    "    opencarryh = Column(Integer)\n",
    "    opencarryl = Column(Integer)\n",
    "    opencarrypermith = Column(Integer)\n",
    "    opencarrypermitl = Column(Integer)\n",
    "    permit = Column(Integer)\n",
    "    permitconcealed = Column(Integer)\n",
    "    permith = Column(Integer)\n",
    "    permitlaw = Column(Integer)\n",
    "    personalized = Column(Integer)\n",
    "    preemption = Column(Integer)\n",
    "    preemptionbroad = Column(Integer)\n",
    "    preemptionnarrow = Column(Integer)\n",
    "    purge = Column(Integer)\n",
    "    recordsall = Column(Integer)\n",
    "    recordsallh = Column(Integer)\n",
    "    recordsdealer = Column(Integer)\n",
    "    recordsdealerh = Column(Integer)\n",
    "    registration = Column(Integer)\n",
    "    registrationh = Column(Integer)\n",
    "    reportall = Column(Integer)\n",
    "    reportallh = Column(Integer)\n",
    "    reportdealer = Column(Integer)\n",
    "    reportdealerh = Column(Integer)\n",
    "    residential = Column(Integer)\n",
    "    security = Column(Integer)\n",
    "    showing = Column(Integer)\n",
    "    stalking = Column(Integer)\n",
    "    statechecks = Column(Integer)\n",
    "    statechecksh = Column(Integer)\n",
    "    strawpurchase = Column(Integer)\n",
    "    strawpurchaseh = Column(Integer)\n",
    "    tenroundlimit = Column(Integer)\n",
    "    theft = Column(Integer)\n",
    "    threedaylimit = Column(Integer)\n",
    "    traffickingbackground = Column(Integer)\n",
    "    traffickingprohibited = Column(Integer)\n",
    "    traffickingprohibitedh = Column(Integer)\n",
    "    training = Column(Integer)\n",
    "    universal = Column(Integer)\n",
    "    universalh = Column(Integer)\n",
    "    universalpermit = Column(Integer)\n",
    "    universalpermith = Column(Integer)\n",
    "    violent = Column(Integer)\n",
    "    violenth = Column(Integer)\n",
    "    violentpartial = Column(Integer)\n",
    "    waiting = Column(Integer)\n",
    "    waitingh = Column(Integer)\n",
    "    lawtotal = Column(Integer)\n",
    "\n",
    "\n",
    "        \n",
    "    def __repr__(self):\n",
    "        return f\"id={self.id}, name={self.state}\""
   ]
  },
  {
   "cell_type": "code",
   "execution_count": 18,
   "metadata": {
    "collapsed": true
   },
   "outputs": [],
   "source": [
    "Base.metadata.create_all(engine)"
   ]
  },
  {
   "cell_type": "code",
   "execution_count": 19,
   "metadata": {},
   "outputs": [
    {
     "data": {
      "text/plain": [
       "['Murder_2015',\n",
       " 'Murder_2016',\n",
       " 'State_laws_by_year',\n",
       " 'gun_law_grade',\n",
       " 'gun_sales',\n",
       " 'mass_shootings']"
      ]
     },
     "execution_count": 19,
     "metadata": {},
     "output_type": "execute_result"
    }
   ],
   "source": [
    "engine.table_names()"
   ]
  },
  {
   "cell_type": "code",
   "execution_count": 20,
   "metadata": {},
   "outputs": [],
   "source": [
    "def populate_table(engine, table, csvfile):\n",
    "    \"\"\"Populates a table from a Pandas DataFrame.\"\"\"\n",
    "    # connect to the database\n",
    "    conn = engine.connect()\n",
    "    \n",
    "    # Load the CSV file into a pandas dataframe \n",
    "    df_of_data_to_insert = pd.read_csv(csvfile)\n",
    "    \n",
    "    # Orient='records' creates a list of data to write\n",
    "    # http://pandas-docs.github.io/pandas-docs-travis/io.html#orient-options\n",
    "    data = df_of_data_to_insert.to_dict(orient='records')\n",
    "\n",
    "    # Optional: Delete all rows in the table \n",
    "    conn.execute(table.delete())\n",
    "\n",
    "    # Insert the dataframe into the database in one bulk insert\n",
    "    conn.execute(table.insert(), data)\n",
    "    \n",
    "# Call the function to insert the data for each table\n",
    "\n",
    "populate_table(engine, Gun_sales.__table__, 'cleaned_data/gun_sale_est_1998_2017.csv')\n",
    "populate_table(engine, Gun_law_grade.__table__, 'cleaned_data/gun_law_scorecard.csv')\n",
    "populate_table(engine, Mass_shootings.__table__, 'cleaned_data/mass_shootings_clean.csv')\n",
    "populate_table(engine, State_laws_by_year.__table__, 'cleaned_data/state_laws_by_year.csv')"
   ]
  },
  {
   "cell_type": "code",
   "execution_count": 21,
   "metadata": {},
   "outputs": [
    {
     "data": {
      "text/plain": [
       "[(1, 1998, 'Alabama', 10567, 25723, 0, 36290, 0, 0)]"
      ]
     },
     "execution_count": 21,
     "metadata": {},
     "output_type": "execute_result"
    }
   ],
   "source": [
    "#run query to test data\n",
    "engine.execute(\"SELECT * FROM gun_sales LIMIT 1\").fetchall()"
   ]
  },
  {
   "cell_type": "code",
   "execution_count": 22,
   "metadata": {},
   "outputs": [
    {
     "data": {
      "text/plain": [
       "[(1, 50, 'Mississippi', 'F', 4, 19.8),\n",
       " (2, 48, 'Kansas', 'F', 23, 13.3),\n",
       " (3, 48, 'Missouri', 'F', 7, 18.8),\n",
       " (4, 47, 'Arizona', 'F', 16, 15.2),\n",
       " (5, 46, 'Idaho', 'F', 19, 14.6),\n",
       " (6, 45, 'Wyoming', 'F', 11, 17.5),\n",
       " (7, 44, 'Alaska', 'F', 1, 23.0),\n",
       " (8, 43, 'Louisiana', 'F', 3, 21.2),\n",
       " (9, 42, 'Kentucky', 'F', 13, 17.5),\n",
       " (10, 41, 'Vermont', 'F', 36, 11.0)]"
      ]
     },
     "execution_count": 22,
     "metadata": {},
     "output_type": "execute_result"
    }
   ],
   "source": [
    "engine.execute(\"SELECT * FROM gun_law_grade LIMIT 10\").fetchall()"
   ]
  },
  {
   "cell_type": "code",
   "execution_count": 23,
   "metadata": {},
   "outputs": [
    {
     "data": {
      "text/plain": [
       "[(1, 'Texas church mass shooting', 'Sutherland Springs', 'Texas', 11, 2017, 'random', 'unknown', 26, 20, 46, 'No', 'White', 'M'),\n",
       " (2, 'Walmart shooting in suburban Denver', 'Thornton', 'Colorado', 11, 2017, 'random', 'unknown', 3, 0, 3, 'No', 'White', 'M'),\n",
       " (3, 'Edgewood businees park shooting', 'Edgewood', 'Maryland', 10, 2017, 'coworkers', 'unknown', 3, 3, 6, 'No', 'Black', 'M'),\n",
       " (4, 'Las Vegas Strip mass shooting', 'Las Vegas', 'Nevada', 10, 2017, 'random', 'unknown', 59, 527, 585, 'Unclear', 'White', 'M'),\n",
       " (5, 'San Francisco UPS shooting', 'San Francisco', 'California', 6, 2017, 'coworkers', 'unknown', 3, 2, 5, 'Yes', 'Asian', 'M'),\n",
       " (6, 'Pennsylvania supermarket shooting', 'Tunkhannock', 'Pennsylvania', 6, 2017, 'coworkers', 'terrorism', 3, 0, 3, 'Unclear', 'White', 'M'),\n",
       " (7, 'Florida awning manufacturer shooting', 'Orlando', 'Florida', 6, 2017, 'coworkers', 'unemployement', 5, 0, 5, 'Unclear', 'unknown', 'M'),\n",
       " (8, 'Rural Ohio nursing home shooting', 'Kirkersville', 'Ohio', 5, 2017, 'coworkers', 'unknown', 3, 0, 3, 'Yes', 'White', 'M'),\n",
       " (9, 'Fresno downtown shooting', 'Fresno', 'California', 4, 2017, 'random', 'racism', 3, 0, 3, 'Unclear', 'Black', 'M'),\n",
       " (10, 'Fort Lauderdale airport shooting', 'Fort Lauderdale', 'Florida', 1, 2017, 'random', 'terrorism', 5, 6, 11, 'Yes', 'Latino', 'M')]"
      ]
     },
     "execution_count": 23,
     "metadata": {},
     "output_type": "execute_result"
    }
   ],
   "source": [
    "engine.execute(\"SELECT * FROM mass_shootings LIMIT 10\").fetchall()"
   ]
  },
  {
   "cell_type": "code",
   "execution_count": 24,
   "metadata": {},
   "outputs": [
    {
     "data": {
      "text/plain": [
       "[(1, 'Baltimore', 'Maryland', 211, 344, 133),\n",
       " (2, 'Chicago', 'Illinois', 411, 478, 67),\n",
       " (3, 'Houston', 'Texas', 242, 303, 61),\n",
       " (4, 'Cleveland', 'Ohio', 63, 120, 57),\n",
       " (5, 'Washington', 'District of Columbia', 105, 162, 57),\n",
       " (6, 'Milwaukee', 'Wisconsin', 90, 145, 55),\n",
       " (7, 'Philadelphia', 'Pennsylvania', 248, 280, 32),\n",
       " (8, 'Kansas City', 'Missouri', 78, 109, 31),\n",
       " (9, 'Nashville', 'Tennessee', 41, 72, 31),\n",
       " (10, 'St. Louis', 'Missouri', 159, 188, 29)]"
      ]
     },
     "execution_count": 24,
     "metadata": {},
     "output_type": "execute_result"
    }
   ],
   "source": [
    "engine.execute(\"SELECT * FROM murder_2015 LIMIT 10\").fetchall()"
   ]
  },
  {
   "cell_type": "code",
   "execution_count": 25,
   "metadata": {},
   "outputs": [
    {
     "data": {
      "text/plain": [
       "[(1, 'Chicago', 'Illinois', 378, 536, 158),\n",
       " (2, 'Orlando', 'Florida', 19, 73, 54),\n",
       " (3, 'Memphis', 'Tennessee', 114, 158, 44),\n",
       " (4, 'Phoenix', 'Arizona', 72, 111, 39),\n",
       " (5, 'Las Vegas', 'Nevada', 90, 125, 35),\n",
       " (6, 'San Antonio', 'Texas', 78, 111, 33),\n",
       " (7, 'Louisville', 'Kentucky', 52, 79, 27),\n",
       " (8, 'Dallas', 'Texas', 95, 118, 23),\n",
       " (9, 'Houston', 'Texas', 191, 212, 21),\n",
       " (10, 'Fort Wayne', 'Indiana', 17, 34, 17)]"
      ]
     },
     "execution_count": 25,
     "metadata": {},
     "output_type": "execute_result"
    }
   ],
   "source": [
    "engine.execute(\"SELECT * FROM murder_2016 LIMIT 10\").fetchall()"
   ]
  },
  {
   "cell_type": "code",
   "execution_count": 26,
   "metadata": {},
   "outputs": [
    {
     "data": {
      "text/plain": [
       "[(1, 'Alabama', 1991, 0, 0, 0, 0, 0, 0, 0, 1, 0, 0, 0, 0, 0, 0, 0, 0, 0, 0, 0, 0, 0, 0, 0, 0, 0, 0, 0, 0, 0, 0, 0, 0, 0, 0, 0, 0, 1, 0, 0, 0, 0, 0, 0, 0, 0, 0, 0, 0, 0, 0, 0, 0, 0, 0, 0, 0, 0, 0, 1, 0, 0, 0, 0, 0, 0, 0, 0, 0, 0, 0, 0, 0, 0, 1, 0, 0, 0, 0, 0, 0, 0, 0, 0, 1, 0, 0, 0, 0, 0, 0, 0, 1, 0, 0, 0, 0, 1, 0, 1, 0, 1, 0, 1, 0, 0, 0, 1, 0, 1, 0, 1, 1, 0, 0, 0, 0, 0, 0, 0, 0, 0, 0, 0, 0, 0, 0, 0, 0, 0, 0, 0, 0, 1, 15),\n",
       " (2, 'Alaska', 1991, 0, 0, 0, 0, 0, 0, 0, 0, 0, 0, 0, 0, 0, 0, 0, 0, 0, 0, 0, 0, 0, 0, 0, 0, 0, 0, 0, 0, 1, 0, 1, 1, 0, 0, 0, 0, 0, 0, 0, 0, 0, 0, 0, 0, 0, 0, 1, 0, 0, 0, 0, 0, 1, 0, 0, 0, 0, 0, 1, 0, 0, 0, 0, 0, 0, 0, 0, 0, 0, 0, 0, 0, 0, 1, 0, 0, 0, 0, 0, 0, 0, 0, 0, 1, 0, 0, 0, 0, 0, 0, 0, 1, 0, 0, 0, 0, 0, 0, 0, 0, 0, 0, 0, 0, 0, 0, 0, 0, 0, 0, 0, 1, 0, 0, 0, 0, 0, 0, 0, 0, 0, 0, 0, 0, 0, 0, 0, 0, 0, 0, 0, 0, 0, 10)]"
      ]
     },
     "execution_count": 26,
     "metadata": {},
     "output_type": "execute_result"
    }
   ],
   "source": [
    "engine.execute(\"SELECT * FROM state_laws_by_year LIMIT 2\").fetchall()"
   ]
  },
  {
   "cell_type": "code",
   "execution_count": null,
   "metadata": {
    "collapsed": true
   },
   "outputs": [],
   "source": []
  }
 ],
 "metadata": {
  "kernelspec": {
   "display_name": "Python 3",
   "language": "python",
   "name": "python3"
  },
  "language_info": {
   "codemirror_mode": {
    "name": "ipython",
    "version": 3
   },
   "file_extension": ".py",
   "mimetype": "text/x-python",
   "name": "python",
   "nbconvert_exporter": "python",
   "pygments_lexer": "ipython3",
   "version": "3.6.2"
  }
 },
 "nbformat": 4,
 "nbformat_minor": 2
}
