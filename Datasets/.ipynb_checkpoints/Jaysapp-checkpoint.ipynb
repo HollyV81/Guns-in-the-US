{
 "cells": [
  {
   "cell_type": "code",
   "execution_count": 90,
   "metadata": {
    "collapsed": true
   },
   "outputs": [],
   "source": [
    "import os\n",
    "\n",
    "import pandas as pd\n",
    "import numpy as np\n",
    "\n",
    "import sqlalchemy\n",
    "from sqlalchemy.ext.automap import automap_base\n",
    "from sqlalchemy.orm import Session\n",
    "from sqlalchemy import create_engine\n",
    "\n",
    "from flask import Flask, jsonify, render_template\n",
    "app = Flask(__name__)\n"
   ]
  },
  {
   "cell_type": "code",
   "execution_count": 91,
   "metadata": {
    "collapsed": true
   },
   "outputs": [],
   "source": [
    "\n",
    "#################################################\n",
    "# Database Setup\n",
    "#################################################\n",
    "dbfile = os.path.join('gun_violence.sqlite')\n",
    "engine = create_engine(f\"sqlite:///{dbfile}\") \n",
    "\n",
    "# reflect an existing database into a new model\n",
    "Base = automap_base()\n",
    "# reflect the tables\n",
    "Base.prepare(engine, reflect=True)\n"
   ]
  },
  {
   "cell_type": "code",
   "execution_count": 92,
   "metadata": {
    "collapsed": true
   },
   "outputs": [],
   "source": [
    "\n",
    "# Save references to tables\n",
    "Gun_sales = Base.classes.gun_sales\n",
    "Gun_law_grade= Base.classes.gun_law_grade\n",
    "Mass_shootings = Base.classes.mass_shootings\n",
    "Murder_2015 = Base.classes.Murder_2015\n",
    "Murder_2016 = Base.classes.Murder_2016\n",
    "State_laws_by_year = Base.classes.State_laws_by_year\n",
    "\n",
    "# Create our session (link) from Python to the DB\n",
    "session = Session(engine)\n",
    "state_dropdown= \"California\""
   ]
  },
  {
   "cell_type": "code",
   "execution_count": 93,
   "metadata": {
    "collapsed": true
   },
   "outputs": [],
   "source": [
    "gun_sales_stmt = session.query(Gun_sales).statement\n",
    "gun_sales_df = pd.read_sql_query(gun_sales_stmt, session.bind)\n",
    "gun_sales_by_state= gun_sales_df.loc[gun_sales_df['state']== state_dropdown,:]\n",
    "gun_sales_by_year= gun_sales_by_state.groupby(['year'])"
   ]
  },
  {
   "cell_type": "code",
   "execution_count": 94,
   "metadata": {
    "scrolled": true
   },
   "outputs": [
    {
     "data": {
      "text/html": [
       "<div>\n",
       "<style>\n",
       "    .dataframe thead tr:only-child th {\n",
       "        text-align: right;\n",
       "    }\n",
       "\n",
       "    .dataframe thead th {\n",
       "        text-align: left;\n",
       "    }\n",
       "\n",
       "    .dataframe tbody tr th {\n",
       "        vertical-align: top;\n",
       "    }\n",
       "</style>\n",
       "<table border=\"1\" class=\"dataframe\">\n",
       "  <thead>\n",
       "    <tr style=\"text-align: right;\">\n",
       "      <th></th>\n",
       "      <th>state</th>\n",
       "    </tr>\n",
       "    <tr>\n",
       "      <th>state</th>\n",
       "      <th></th>\n",
       "    </tr>\n",
       "  </thead>\n",
       "  <tbody>\n",
       "    <tr>\n",
       "      <th>California</th>\n",
       "      <td>CaliforniaCaliforniaCaliforniaCaliforniaCalifo...</td>\n",
       "    </tr>\n",
       "  </tbody>\n",
       "</table>\n",
       "</div>"
      ],
      "text/plain": [
       "                                                        state\n",
       "state                                                        \n",
       "California  CaliforniaCaliforniaCaliforniaCaliforniaCalifo..."
      ]
     },
     "execution_count": 94,
     "metadata": {},
     "output_type": "execute_result"
    }
   ],
   "source": [
    "mass_shootings_stmt = session.query(Mass_shootings).statement\n",
    "mass_shootings_df = pd.read_sql_query(mass_shootings_stmt, session.bind)\n",
    "mass_shootings_by_state= mass_shootings_df.loc[mass_shootings_df['state']== state_dropdown,:]\n",
    "mass_shootings_by_year= mass_shootings_by_state[['id','state','year','fatalities','injured', 'total_victims']]\n",
    "mass_shootings_by_year= mass_shootings_by_year.reset_index(drop=True)\n",
    "mass_shootings_by_year_sum= mass_shootings_by_year.groupby(['state'])[['state']].sum()\n",
    "mass_shootings_by_year_sum.head()\n",
    "\n"
   ]
  },
  {
   "cell_type": "code",
   "execution_count": 95,
   "metadata": {
    "collapsed": true
   },
   "outputs": [],
   "source": [
    "mass_sum = mass_shootings_by_year.groupby(['year','state'])[['fatalities']].sum().reset_index()\n",
    "mass_count = mass_shootings_by_year.groupby(['year','state'])[['fatalities']].count().reset_index()"
   ]
  },
  {
   "cell_type": "code",
   "execution_count": 96,
   "metadata": {
    "collapsed": true
   },
   "outputs": [],
   "source": [
    "mass_df = pd.merge(mass_sum, mass_count, on = 'year',how ='inner')"
   ]
  },
  {
   "cell_type": "code",
   "execution_count": 99,
   "metadata": {
    "collapsed": true
   },
   "outputs": [],
   "source": [
    "mass2_df = mass_df.drop('state_y', axis=1)"
   ]
  },
  {
   "cell_type": "code",
   "execution_count": 101,
   "metadata": {
    "collapsed": true
   },
   "outputs": [],
   "source": [
    "mass2_df.rename(columns={'state_x':'state','fatalities_x':'mass_murders_sum','fatalities_y':'mass_muders_count'},inplace = True)"
   ]
  }
 ],
 "metadata": {
  "kernelspec": {
   "display_name": "Python 3",
   "language": "python",
   "name": "python3"
  },
  "language_info": {
   "codemirror_mode": {
    "name": "ipython",
    "version": 3
   },
   "file_extension": ".py",
   "mimetype": "text/x-python",
   "name": "python",
   "nbconvert_exporter": "python",
   "pygments_lexer": "ipython3",
   "version": "3.6.2"
  }
 },
 "nbformat": 4,
 "nbformat_minor": 2
}
